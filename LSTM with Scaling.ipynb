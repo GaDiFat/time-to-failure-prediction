{
 "cells": [
  {
   "cell_type": "code",
   "execution_count": 1,
   "id": "aecfa9c2-e30c-4d8b-9599-f247a04e456f",
   "metadata": {},
   "outputs": [],
   "source": [
    "import tensorflow as tf\n",
    "import os\n",
    "import pandas as pd\n",
    "import numpy as np\n",
    "from keras.preprocessing.sequence import TimeseriesGenerator\n",
    "import random\n",
    "from sklearn.preprocessing import MinMaxScaler\n",
    "from sklearn import metrics"
   ]
  },
  {
   "cell_type": "code",
   "execution_count": 2,
   "id": "e8fbd829-3df6-40c4-a112-86098352a29a",
   "metadata": {},
   "outputs": [],
   "source": [
    "def ts_idlist(df,idlist,window):\n",
    "    X=[]\n",
    "    y=[]\n",
    "    feature_cols=df.columns.to_list()\n",
    "    feature_cols.remove('ID')\n",
    "    feature_cols.remove('RUL')\n",
    "    for i in idlist:\n",
    "            df_ID = df[df['ID']==i]\n",
    "            df_ID = df_ID.drop(columns=['ID'])\n",
    "            features = df_ID[feature_cols].to_numpy()\n",
    "            target = df_ID[['RUL']].to_numpy()\n",
    "            ts_generator = TimeseriesGenerator(features,target,length=window,sampling_rate=1,batch_size=1)\n",
    "            for j in range(len(ts_generator)):\n",
    "                x_temp, y_temp = ts_generator[j]\n",
    "                X.append(x_temp[0])\n",
    "                y.append(y_temp[0][0])\n",
    "    X=np.array(X)\n",
    "    y=np.array(y)\n",
    "    return(X,y)"
   ]
  },
  {
   "cell_type": "code",
   "execution_count": 3,
   "id": "e3f9eb50-3977-4cf1-9879-25caa7c8d33f",
   "metadata": {},
   "outputs": [],
   "source": [
    "def get_ts(dataset_n,window):\n",
    "    scale_train = MinMaxScaler()\n",
    "    df=pd.read_csv(\"Train_{}.csv\".format(dataset_n))\n",
    "    cols_to_scale=df.columns.tolist()\n",
    "    cols_to_scale.remove('ID')\n",
    "    df[cols_to_scale] = pd.DataFrame(scale_train.fit_transform(df[cols_to_scale].values), columns=cols_to_scale, index=df.index)\n",
    "    ID=np.unique(df['ID'])\n",
    "    n=10\n",
    "    k, m = divmod(len(ID), n)\n",
    "    chunks=[ID[i*k+min(i, m):(i+1)*k+min(i+1, m)] for i in range(n)]\n",
    "    ID_validation=chunks[-1].tolist()\n",
    "    ID_train=[i for i in ID if i not in ID_validation]\n",
    "    X_validation,y_validation=ts_idlist(df,ID_validation,window)\n",
    "    X_train,y_train=ts_idlist(df,ID_train,window)\n",
    "\n",
    "    df=pd.read_csv(\"Test_{}.csv\".format(dataset_n))\n",
    "    df[cols_to_scale] = pd.DataFrame(scale_train.transform(df[cols_to_scale].values), columns=cols_to_scale, index=df.index)\n",
    "    ID_test=np.unique(df['ID']).tolist()\n",
    "    X_test,y_test=ts_idlist(df,ID_test,window)\n",
    "    return(X_train,y_train,X_validation,y_validation,X_test,y_test,scale_train,cols_to_scale)"
   ]
  },
  {
   "cell_type": "code",
   "execution_count": 4,
   "id": "6870b1d8-36fd-4803-b5f1-8d89cd67f9f7",
   "metadata": {},
   "outputs": [],
   "source": [
    "window=5,\n",
    "dataset_n=1\n",
    "X_train,y_train,X_validation,y_validation,X_test,y_test,scale_train,cols_to_scale=get_ts(1,5)"
   ]
  },
  {
   "cell_type": "code",
   "execution_count": 5,
   "id": "e078fb71-2910-4fc2-b7ef-abbd964631f3",
   "metadata": {},
   "outputs": [
    {
     "data": {
      "text/plain": [
       "((17930, 5, 13), (17930,), (2201, 5, 13), (2201,), (12596, 5, 13), (12596,))"
      ]
     },
     "execution_count": 5,
     "metadata": {},
     "output_type": "execute_result"
    }
   ],
   "source": [
    "X_train.shape, y_train.shape, X_validation.shape, y_validation.shape, X_test.shape, y_test.shape"
   ]
  },
  {
   "cell_type": "code",
   "execution_count": 6,
   "id": "2bdd03cf-63fa-46ea-804e-3bfaa2815208",
   "metadata": {},
   "outputs": [
    {
     "name": "stdout",
     "output_type": "stream",
     "text": [
      "Model: \"sequential\"\n",
      "_________________________________________________________________\n",
      " Layer (type)                Output Shape              Param #   \n",
      "=================================================================\n",
      " lstm (LSTM)                 (None, 5, 100)            45600     \n",
      "                                                                 \n",
      " dropout (Dropout)           (None, 5, 100)            0         \n",
      "                                                                 \n",
      " lstm_1 (LSTM)               (None, 100)               80400     \n",
      "                                                                 \n",
      " dropout_1 (Dropout)         (None, 100)               0         \n",
      "                                                                 \n",
      " dense (Dense)               (None, 1)                 101       \n",
      "                                                                 \n",
      " activation (Activation)     (None, 1)                 0         \n",
      "                                                                 \n",
      "=================================================================\n",
      "Total params: 126,101\n",
      "Trainable params: 126,101\n",
      "Non-trainable params: 0\n",
      "_________________________________________________________________\n"
     ]
    }
   ],
   "source": [
    "from tensorflow.keras.models import Sequential\n",
    "from tensorflow.keras.layers import *\n",
    "from tensorflow.keras.callbacks import ModelCheckpoint\n",
    "from tensorflow.keras.losses import MeanSquaredError\n",
    "from tensorflow.keras.metrics import RootMeanSquaredError\n",
    "from tensorflow.keras.optimizers import Adam\n",
    "\n",
    "model = Sequential()\n",
    "model.add(LSTM(\n",
    "         units=100,\n",
    "         return_sequences=True,\n",
    "         input_shape=(5, 13)))\n",
    "model.add(Dropout(0.2))\n",
    "model.add(LSTM(\n",
    "          units=100,\n",
    "          return_sequences=False))\n",
    "model.add(Dropout(0.2))\n",
    "model.add(Dense(units=1, activation='relu'))\n",
    "model.add(Activation(\"relu\"))\n",
    "model.compile(loss=\"mse\", optimizer=\"rmsprop\", metrics=['mse'])\n",
    "\n",
    "model.summary()"
   ]
  },
  {
   "cell_type": "code",
   "execution_count": 7,
   "id": "8ee937c2-7197-4d53-8dc8-a3ac712a1f5c",
   "metadata": {},
   "outputs": [],
   "source": [
    "cp = ModelCheckpoint('model/', save_best_only=True)\n",
    "model.compile(loss=MeanSquaredError(), optimizer=Adam(learning_rate=0.0001), metrics=[RootMeanSquaredError()])"
   ]
  },
  {
   "cell_type": "code",
   "execution_count": 8,
   "id": "8e9ff477-bf54-4889-99b1-d48caeb93fa2",
   "metadata": {},
   "outputs": [
    {
     "name": "stdout",
     "output_type": "stream",
     "text": [
      "Epoch 1/100\n",
      "557/561 [============================>.] - ETA: 0s - loss: 0.0158 - root_mean_squared_error: 0.1257"
     ]
    },
    {
     "name": "stderr",
     "output_type": "stream",
     "text": [
      "WARNING:absl:Found untraced functions such as lstm_cell_layer_call_fn, lstm_cell_layer_call_and_return_conditional_losses, lstm_cell_1_layer_call_fn, lstm_cell_1_layer_call_and_return_conditional_losses while saving (showing 4 of 4). These functions will not be directly callable after loading.\n"
     ]
    },
    {
     "name": "stdout",
     "output_type": "stream",
     "text": [
      "INFO:tensorflow:Assets written to: model\\assets\n"
     ]
    },
    {
     "name": "stderr",
     "output_type": "stream",
     "text": [
      "INFO:tensorflow:Assets written to: model\\assets\n",
      "WARNING:absl:<keras.layers.recurrent.LSTMCell object at 0x0000028F109A5A30> has the same name 'LSTMCell' as a built-in Keras object. Consider renaming <class 'keras.layers.recurrent.LSTMCell'> to avoid naming conflicts when loading with `tf.keras.models.load_model`. If renaming is not possible, pass the object in the `custom_objects` parameter of the load function.\n",
      "WARNING:absl:<keras.layers.recurrent.LSTMCell object at 0x0000028F10812760> has the same name 'LSTMCell' as a built-in Keras object. Consider renaming <class 'keras.layers.recurrent.LSTMCell'> to avoid naming conflicts when loading with `tf.keras.models.load_model`. If renaming is not possible, pass the object in the `custom_objects` parameter of the load function.\n"
     ]
    },
    {
     "name": "stdout",
     "output_type": "stream",
     "text": [
      "561/561 [==============================] - 20s 31ms/step - loss: 0.0158 - root_mean_squared_error: 0.1256 - val_loss: 0.0289 - val_root_mean_squared_error: 0.1701\n",
      "Epoch 2/100\n",
      "560/561 [============================>.] - ETA: 0s - loss: 0.0107 - root_mean_squared_error: 0.1034"
     ]
    },
    {
     "name": "stderr",
     "output_type": "stream",
     "text": [
      "WARNING:absl:Found untraced functions such as lstm_cell_layer_call_fn, lstm_cell_layer_call_and_return_conditional_losses, lstm_cell_1_layer_call_fn, lstm_cell_1_layer_call_and_return_conditional_losses while saving (showing 4 of 4). These functions will not be directly callable after loading.\n"
     ]
    },
    {
     "name": "stdout",
     "output_type": "stream",
     "text": [
      "INFO:tensorflow:Assets written to: model\\assets\n"
     ]
    },
    {
     "name": "stderr",
     "output_type": "stream",
     "text": [
      "INFO:tensorflow:Assets written to: model\\assets\n",
      "WARNING:absl:<keras.layers.recurrent.LSTMCell object at 0x0000028F109A5A30> has the same name 'LSTMCell' as a built-in Keras object. Consider renaming <class 'keras.layers.recurrent.LSTMCell'> to avoid naming conflicts when loading with `tf.keras.models.load_model`. If renaming is not possible, pass the object in the `custom_objects` parameter of the load function.\n",
      "WARNING:absl:<keras.layers.recurrent.LSTMCell object at 0x0000028F10812760> has the same name 'LSTMCell' as a built-in Keras object. Consider renaming <class 'keras.layers.recurrent.LSTMCell'> to avoid naming conflicts when loading with `tf.keras.models.load_model`. If renaming is not possible, pass the object in the `custom_objects` parameter of the load function.\n"
     ]
    },
    {
     "name": "stdout",
     "output_type": "stream",
     "text": [
      "561/561 [==============================] - 16s 29ms/step - loss: 0.0107 - root_mean_squared_error: 0.1034 - val_loss: 0.0282 - val_root_mean_squared_error: 0.1679\n",
      "Epoch 3/100\n",
      "560/561 [============================>.] - ETA: 0s - loss: 0.0103 - root_mean_squared_error: 0.1017"
     ]
    },
    {
     "name": "stderr",
     "output_type": "stream",
     "text": [
      "WARNING:absl:Found untraced functions such as lstm_cell_layer_call_fn, lstm_cell_layer_call_and_return_conditional_losses, lstm_cell_1_layer_call_fn, lstm_cell_1_layer_call_and_return_conditional_losses while saving (showing 4 of 4). These functions will not be directly callable after loading.\n"
     ]
    },
    {
     "name": "stdout",
     "output_type": "stream",
     "text": [
      "INFO:tensorflow:Assets written to: model\\assets\n"
     ]
    },
    {
     "name": "stderr",
     "output_type": "stream",
     "text": [
      "INFO:tensorflow:Assets written to: model\\assets\n",
      "WARNING:absl:<keras.layers.recurrent.LSTMCell object at 0x0000028F109A5A30> has the same name 'LSTMCell' as a built-in Keras object. Consider renaming <class 'keras.layers.recurrent.LSTMCell'> to avoid naming conflicts when loading with `tf.keras.models.load_model`. If renaming is not possible, pass the object in the `custom_objects` parameter of the load function.\n",
      "WARNING:absl:<keras.layers.recurrent.LSTMCell object at 0x0000028F10812760> has the same name 'LSTMCell' as a built-in Keras object. Consider renaming <class 'keras.layers.recurrent.LSTMCell'> to avoid naming conflicts when loading with `tf.keras.models.load_model`. If renaming is not possible, pass the object in the `custom_objects` parameter of the load function.\n"
     ]
    },
    {
     "name": "stdout",
     "output_type": "stream",
     "text": [
      "561/561 [==============================] - 16s 29ms/step - loss: 0.0103 - root_mean_squared_error: 0.1017 - val_loss: 0.0263 - val_root_mean_squared_error: 0.1622\n",
      "Epoch 4/100\n",
      "561/561 [==============================] - 9s 16ms/step - loss: 0.0102 - root_mean_squared_error: 0.1008 - val_loss: 0.0274 - val_root_mean_squared_error: 0.1657\n",
      "Epoch 5/100\n",
      "561/561 [==============================] - 9s 16ms/step - loss: 0.0099 - root_mean_squared_error: 0.0993 - val_loss: 0.0268 - val_root_mean_squared_error: 0.1638\n",
      "Epoch 6/100\n",
      "560/561 [============================>.] - ETA: 0s - loss: 0.0096 - root_mean_squared_error: 0.0981"
     ]
    },
    {
     "name": "stderr",
     "output_type": "stream",
     "text": [
      "WARNING:absl:Found untraced functions such as lstm_cell_layer_call_fn, lstm_cell_layer_call_and_return_conditional_losses, lstm_cell_1_layer_call_fn, lstm_cell_1_layer_call_and_return_conditional_losses while saving (showing 4 of 4). These functions will not be directly callable after loading.\n"
     ]
    },
    {
     "name": "stdout",
     "output_type": "stream",
     "text": [
      "INFO:tensorflow:Assets written to: model\\assets\n"
     ]
    },
    {
     "name": "stderr",
     "output_type": "stream",
     "text": [
      "INFO:tensorflow:Assets written to: model\\assets\n",
      "WARNING:absl:<keras.layers.recurrent.LSTMCell object at 0x0000028F109A5A30> has the same name 'LSTMCell' as a built-in Keras object. Consider renaming <class 'keras.layers.recurrent.LSTMCell'> to avoid naming conflicts when loading with `tf.keras.models.load_model`. If renaming is not possible, pass the object in the `custom_objects` parameter of the load function.\n",
      "WARNING:absl:<keras.layers.recurrent.LSTMCell object at 0x0000028F10812760> has the same name 'LSTMCell' as a built-in Keras object. Consider renaming <class 'keras.layers.recurrent.LSTMCell'> to avoid naming conflicts when loading with `tf.keras.models.load_model`. If renaming is not possible, pass the object in the `custom_objects` parameter of the load function.\n"
     ]
    },
    {
     "name": "stdout",
     "output_type": "stream",
     "text": [
      "561/561 [==============================] - 16s 29ms/step - loss: 0.0096 - root_mean_squared_error: 0.0981 - val_loss: 0.0250 - val_root_mean_squared_error: 0.1582\n",
      "Epoch 7/100\n",
      "560/561 [============================>.] - ETA: 0s - loss: 0.0094 - root_mean_squared_error: 0.0970"
     ]
    },
    {
     "name": "stderr",
     "output_type": "stream",
     "text": [
      "WARNING:absl:Found untraced functions such as lstm_cell_layer_call_fn, lstm_cell_layer_call_and_return_conditional_losses, lstm_cell_1_layer_call_fn, lstm_cell_1_layer_call_and_return_conditional_losses while saving (showing 4 of 4). These functions will not be directly callable after loading.\n"
     ]
    },
    {
     "name": "stdout",
     "output_type": "stream",
     "text": [
      "INFO:tensorflow:Assets written to: model\\assets\n"
     ]
    },
    {
     "name": "stderr",
     "output_type": "stream",
     "text": [
      "INFO:tensorflow:Assets written to: model\\assets\n",
      "WARNING:absl:<keras.layers.recurrent.LSTMCell object at 0x0000028F109A5A30> has the same name 'LSTMCell' as a built-in Keras object. Consider renaming <class 'keras.layers.recurrent.LSTMCell'> to avoid naming conflicts when loading with `tf.keras.models.load_model`. If renaming is not possible, pass the object in the `custom_objects` parameter of the load function.\n",
      "WARNING:absl:<keras.layers.recurrent.LSTMCell object at 0x0000028F10812760> has the same name 'LSTMCell' as a built-in Keras object. Consider renaming <class 'keras.layers.recurrent.LSTMCell'> to avoid naming conflicts when loading with `tf.keras.models.load_model`. If renaming is not possible, pass the object in the `custom_objects` parameter of the load function.\n"
     ]
    },
    {
     "name": "stdout",
     "output_type": "stream",
     "text": [
      "561/561 [==============================] - 16s 29ms/step - loss: 0.0094 - root_mean_squared_error: 0.0971 - val_loss: 0.0236 - val_root_mean_squared_error: 0.1536\n",
      "Epoch 8/100\n",
      "561/561 [==============================] - 9s 16ms/step - loss: 0.0092 - root_mean_squared_error: 0.0959 - val_loss: 0.0262 - val_root_mean_squared_error: 0.1619\n",
      "Epoch 9/100\n",
      "560/561 [============================>.] - ETA: 0s - loss: 0.0092 - root_mean_squared_error: 0.0958"
     ]
    },
    {
     "name": "stderr",
     "output_type": "stream",
     "text": [
      "WARNING:absl:Found untraced functions such as lstm_cell_layer_call_fn, lstm_cell_layer_call_and_return_conditional_losses, lstm_cell_1_layer_call_fn, lstm_cell_1_layer_call_and_return_conditional_losses while saving (showing 4 of 4). These functions will not be directly callable after loading.\n"
     ]
    },
    {
     "name": "stdout",
     "output_type": "stream",
     "text": [
      "INFO:tensorflow:Assets written to: model\\assets\n"
     ]
    },
    {
     "name": "stderr",
     "output_type": "stream",
     "text": [
      "INFO:tensorflow:Assets written to: model\\assets\n",
      "WARNING:absl:<keras.layers.recurrent.LSTMCell object at 0x0000028F109A5A30> has the same name 'LSTMCell' as a built-in Keras object. Consider renaming <class 'keras.layers.recurrent.LSTMCell'> to avoid naming conflicts when loading with `tf.keras.models.load_model`. If renaming is not possible, pass the object in the `custom_objects` parameter of the load function.\n",
      "WARNING:absl:<keras.layers.recurrent.LSTMCell object at 0x0000028F10812760> has the same name 'LSTMCell' as a built-in Keras object. Consider renaming <class 'keras.layers.recurrent.LSTMCell'> to avoid naming conflicts when loading with `tf.keras.models.load_model`. If renaming is not possible, pass the object in the `custom_objects` parameter of the load function.\n"
     ]
    },
    {
     "name": "stdout",
     "output_type": "stream",
     "text": [
      "561/561 [==============================] - 17s 30ms/step - loss: 0.0092 - root_mean_squared_error: 0.0958 - val_loss: 0.0234 - val_root_mean_squared_error: 0.1529\n",
      "Epoch 10/100\n",
      "561/561 [==============================] - 10s 17ms/step - loss: 0.0092 - root_mean_squared_error: 0.0957 - val_loss: 0.0236 - val_root_mean_squared_error: 0.1536\n",
      "Epoch 11/100\n",
      "559/561 [============================>.] - ETA: 0s - loss: 0.0092 - root_mean_squared_error: 0.0960"
     ]
    },
    {
     "name": "stderr",
     "output_type": "stream",
     "text": [
      "WARNING:absl:Found untraced functions such as lstm_cell_layer_call_fn, lstm_cell_layer_call_and_return_conditional_losses, lstm_cell_1_layer_call_fn, lstm_cell_1_layer_call_and_return_conditional_losses while saving (showing 4 of 4). These functions will not be directly callable after loading.\n"
     ]
    },
    {
     "name": "stdout",
     "output_type": "stream",
     "text": [
      "INFO:tensorflow:Assets written to: model\\assets\n"
     ]
    },
    {
     "name": "stderr",
     "output_type": "stream",
     "text": [
      "INFO:tensorflow:Assets written to: model\\assets\n",
      "WARNING:absl:<keras.layers.recurrent.LSTMCell object at 0x0000028F109A5A30> has the same name 'LSTMCell' as a built-in Keras object. Consider renaming <class 'keras.layers.recurrent.LSTMCell'> to avoid naming conflicts when loading with `tf.keras.models.load_model`. If renaming is not possible, pass the object in the `custom_objects` parameter of the load function.\n",
      "WARNING:absl:<keras.layers.recurrent.LSTMCell object at 0x0000028F10812760> has the same name 'LSTMCell' as a built-in Keras object. Consider renaming <class 'keras.layers.recurrent.LSTMCell'> to avoid naming conflicts when loading with `tf.keras.models.load_model`. If renaming is not possible, pass the object in the `custom_objects` parameter of the load function.\n"
     ]
    },
    {
     "name": "stdout",
     "output_type": "stream",
     "text": [
      "561/561 [==============================] - 18s 32ms/step - loss: 0.0092 - root_mean_squared_error: 0.0959 - val_loss: 0.0234 - val_root_mean_squared_error: 0.1529\n",
      "Epoch 12/100\n",
      "561/561 [==============================] - 10s 17ms/step - loss: 0.0092 - root_mean_squared_error: 0.0958 - val_loss: 0.0240 - val_root_mean_squared_error: 0.1549\n",
      "Epoch 13/100\n",
      "561/561 [==============================] - 9s 15ms/step - loss: 0.0091 - root_mean_squared_error: 0.0952 - val_loss: 0.0244 - val_root_mean_squared_error: 0.1562\n",
      "Epoch 14/100\n",
      "561/561 [==============================] - 8s 15ms/step - loss: 0.0091 - root_mean_squared_error: 0.0953 - val_loss: 0.0250 - val_root_mean_squared_error: 0.1581\n",
      "Epoch 15/100\n",
      "561/561 [==============================] - 8s 15ms/step - loss: 0.0090 - root_mean_squared_error: 0.0950 - val_loss: 0.0237 - val_root_mean_squared_error: 0.1540\n",
      "Epoch 16/100\n",
      "561/561 [==============================] - 8s 15ms/step - loss: 0.0091 - root_mean_squared_error: 0.0954 - val_loss: 0.0234 - val_root_mean_squared_error: 0.1529\n",
      "Epoch 17/100\n",
      "561/561 [==============================] - 8s 14ms/step - loss: 0.0091 - root_mean_squared_error: 0.0953 - val_loss: 0.0242 - val_root_mean_squared_error: 0.1556\n",
      "Epoch 18/100\n",
      "561/561 [==============================] - 8s 14ms/step - loss: 0.0090 - root_mean_squared_error: 0.0950 - val_loss: 0.0235 - val_root_mean_squared_error: 0.1534\n",
      "Epoch 19/100\n",
      "561/561 [==============================] - 8s 14ms/step - loss: 0.0090 - root_mean_squared_error: 0.0948 - val_loss: 0.0247 - val_root_mean_squared_error: 0.1572\n",
      "Epoch 20/100\n",
      "561/561 [==============================] - 8s 14ms/step - loss: 0.0089 - root_mean_squared_error: 0.0945 - val_loss: 0.0242 - val_root_mean_squared_error: 0.1555\n",
      "Epoch 21/100\n",
      "561/561 [==============================] - 8s 14ms/step - loss: 0.0090 - root_mean_squared_error: 0.0947 - val_loss: 0.0236 - val_root_mean_squared_error: 0.1537\n",
      "Epoch 22/100\n",
      "561/561 [==============================] - 8s 14ms/step - loss: 0.0090 - root_mean_squared_error: 0.0947 - val_loss: 0.0243 - val_root_mean_squared_error: 0.1560\n",
      "Epoch 23/100\n",
      "561/561 [==============================] - 8s 14ms/step - loss: 0.0089 - root_mean_squared_error: 0.0944 - val_loss: 0.0243 - val_root_mean_squared_error: 0.1559\n",
      "Epoch 24/100\n",
      "561/561 [==============================] - 8s 14ms/step - loss: 0.0090 - root_mean_squared_error: 0.0947 - val_loss: 0.0244 - val_root_mean_squared_error: 0.1562\n",
      "Epoch 25/100\n",
      "561/561 [==============================] - 8s 14ms/step - loss: 0.0089 - root_mean_squared_error: 0.0945 - val_loss: 0.0241 - val_root_mean_squared_error: 0.1553\n",
      "Epoch 26/100\n",
      "561/561 [==============================] - 8s 14ms/step - loss: 0.0089 - root_mean_squared_error: 0.0945 - val_loss: 0.0254 - val_root_mean_squared_error: 0.1594\n",
      "Epoch 27/100\n",
      "561/561 [==============================] - 8s 14ms/step - loss: 0.0088 - root_mean_squared_error: 0.0940 - val_loss: 0.0245 - val_root_mean_squared_error: 0.1564\n",
      "Epoch 28/100\n",
      "561/561 [==============================] - 8s 14ms/step - loss: 0.0089 - root_mean_squared_error: 0.0942 - val_loss: 0.0241 - val_root_mean_squared_error: 0.1554\n",
      "Epoch 29/100\n",
      "560/561 [============================>.] - ETA: 0s - loss: 0.0089 - root_mean_squared_error: 0.0944"
     ]
    },
    {
     "name": "stderr",
     "output_type": "stream",
     "text": [
      "WARNING:absl:Found untraced functions such as lstm_cell_layer_call_fn, lstm_cell_layer_call_and_return_conditional_losses, lstm_cell_1_layer_call_fn, lstm_cell_1_layer_call_and_return_conditional_losses while saving (showing 4 of 4). These functions will not be directly callable after loading.\n"
     ]
    },
    {
     "name": "stdout",
     "output_type": "stream",
     "text": [
      "INFO:tensorflow:Assets written to: model\\assets\n"
     ]
    },
    {
     "name": "stderr",
     "output_type": "stream",
     "text": [
      "INFO:tensorflow:Assets written to: model\\assets\n",
      "WARNING:absl:<keras.layers.recurrent.LSTMCell object at 0x0000028F109A5A30> has the same name 'LSTMCell' as a built-in Keras object. Consider renaming <class 'keras.layers.recurrent.LSTMCell'> to avoid naming conflicts when loading with `tf.keras.models.load_model`. If renaming is not possible, pass the object in the `custom_objects` parameter of the load function.\n",
      "WARNING:absl:<keras.layers.recurrent.LSTMCell object at 0x0000028F10812760> has the same name 'LSTMCell' as a built-in Keras object. Consider renaming <class 'keras.layers.recurrent.LSTMCell'> to avoid naming conflicts when loading with `tf.keras.models.load_model`. If renaming is not possible, pass the object in the `custom_objects` parameter of the load function.\n"
     ]
    },
    {
     "name": "stdout",
     "output_type": "stream",
     "text": [
      "561/561 [==============================] - 15s 27ms/step - loss: 0.0089 - root_mean_squared_error: 0.0944 - val_loss: 0.0233 - val_root_mean_squared_error: 0.1526\n",
      "Epoch 30/100\n",
      "561/561 [==============================] - 9s 16ms/step - loss: 0.0089 - root_mean_squared_error: 0.0941 - val_loss: 0.0244 - val_root_mean_squared_error: 0.1561\n",
      "Epoch 31/100\n",
      "561/561 [==============================] - 10s 17ms/step - loss: 0.0088 - root_mean_squared_error: 0.0938 - val_loss: 0.0239 - val_root_mean_squared_error: 0.1546\n",
      "Epoch 32/100\n",
      "561/561 [==============================] - 9s 17ms/step - loss: 0.0089 - root_mean_squared_error: 0.0942 - val_loss: 0.0235 - val_root_mean_squared_error: 0.1534\n",
      "Epoch 33/100\n",
      "561/561 [==============================] - 9s 16ms/step - loss: 0.0088 - root_mean_squared_error: 0.0937 - val_loss: 0.0235 - val_root_mean_squared_error: 0.1531\n",
      "Epoch 34/100\n",
      "561/561 [==============================] - 10s 18ms/step - loss: 0.0088 - root_mean_squared_error: 0.0938 - val_loss: 0.0248 - val_root_mean_squared_error: 0.1576\n",
      "Epoch 35/100\n",
      "561/561 [==============================] - 10s 17ms/step - loss: 0.0088 - root_mean_squared_error: 0.0938 - val_loss: 0.0247 - val_root_mean_squared_error: 0.1571\n",
      "Epoch 36/100\n",
      "561/561 [==============================] - 9s 17ms/step - loss: 0.0088 - root_mean_squared_error: 0.0941 - val_loss: 0.0234 - val_root_mean_squared_error: 0.1531\n",
      "Epoch 37/100\n",
      "561/561 [==============================] - 10s 18ms/step - loss: 0.0088 - root_mean_squared_error: 0.0936 - val_loss: 0.0245 - val_root_mean_squared_error: 0.1564\n",
      "Epoch 38/100\n",
      "561/561 [==============================] - 10s 18ms/step - loss: 0.0088 - root_mean_squared_error: 0.0938 - val_loss: 0.0246 - val_root_mean_squared_error: 0.1567\n",
      "Epoch 39/100\n",
      "557/561 [============================>.] - ETA: 0s - loss: 0.0088 - root_mean_squared_error: 0.0938"
     ]
    },
    {
     "name": "stderr",
     "output_type": "stream",
     "text": [
      "WARNING:absl:Found untraced functions such as lstm_cell_layer_call_fn, lstm_cell_layer_call_and_return_conditional_losses, lstm_cell_1_layer_call_fn, lstm_cell_1_layer_call_and_return_conditional_losses while saving (showing 4 of 4). These functions will not be directly callable after loading.\n"
     ]
    },
    {
     "name": "stdout",
     "output_type": "stream",
     "text": [
      "INFO:tensorflow:Assets written to: model\\assets\n"
     ]
    },
    {
     "name": "stderr",
     "output_type": "stream",
     "text": [
      "INFO:tensorflow:Assets written to: model\\assets\n",
      "WARNING:absl:<keras.layers.recurrent.LSTMCell object at 0x0000028F109A5A30> has the same name 'LSTMCell' as a built-in Keras object. Consider renaming <class 'keras.layers.recurrent.LSTMCell'> to avoid naming conflicts when loading with `tf.keras.models.load_model`. If renaming is not possible, pass the object in the `custom_objects` parameter of the load function.\n",
      "WARNING:absl:<keras.layers.recurrent.LSTMCell object at 0x0000028F10812760> has the same name 'LSTMCell' as a built-in Keras object. Consider renaming <class 'keras.layers.recurrent.LSTMCell'> to avoid naming conflicts when loading with `tf.keras.models.load_model`. If renaming is not possible, pass the object in the `custom_objects` parameter of the load function.\n"
     ]
    },
    {
     "name": "stdout",
     "output_type": "stream",
     "text": [
      "561/561 [==============================] - 17s 30ms/step - loss: 0.0088 - root_mean_squared_error: 0.0938 - val_loss: 0.0232 - val_root_mean_squared_error: 0.1524\n",
      "Epoch 40/100\n",
      "561/561 [==============================] - 10s 18ms/step - loss: 0.0088 - root_mean_squared_error: 0.0936 - val_loss: 0.0256 - val_root_mean_squared_error: 0.1601\n",
      "Epoch 41/100\n",
      "561/561 [==============================] - 9s 17ms/step - loss: 0.0087 - root_mean_squared_error: 0.0935 - val_loss: 0.0248 - val_root_mean_squared_error: 0.1576\n",
      "Epoch 42/100\n",
      "561/561 [==============================] - 10s 17ms/step - loss: 0.0087 - root_mean_squared_error: 0.0935 - val_loss: 0.0239 - val_root_mean_squared_error: 0.1545\n",
      "Epoch 43/100\n",
      "561/561 [==============================] - 10s 17ms/step - loss: 0.0087 - root_mean_squared_error: 0.0933 - val_loss: 0.0244 - val_root_mean_squared_error: 0.1562\n",
      "Epoch 44/100\n",
      "561/561 [==============================] - 9s 17ms/step - loss: 0.0087 - root_mean_squared_error: 0.0934 - val_loss: 0.0239 - val_root_mean_squared_error: 0.1547\n",
      "Epoch 45/100\n",
      "561/561 [==============================] - 10s 17ms/step - loss: 0.0088 - root_mean_squared_error: 0.0936 - val_loss: 0.0258 - val_root_mean_squared_error: 0.1607\n",
      "Epoch 46/100\n",
      "561/561 [==============================] - 10s 17ms/step - loss: 0.0087 - root_mean_squared_error: 0.0933 - val_loss: 0.0243 - val_root_mean_squared_error: 0.1559\n",
      "Epoch 47/100\n",
      "561/561 [==============================] - 9s 16ms/step - loss: 0.0086 - root_mean_squared_error: 0.0929 - val_loss: 0.0237 - val_root_mean_squared_error: 0.1539\n",
      "Epoch 48/100\n",
      "561/561 [==============================] - ETA: 0s - loss: 0.0087 - root_mean_squared_error: 0.0934"
     ]
    },
    {
     "name": "stderr",
     "output_type": "stream",
     "text": [
      "WARNING:absl:Found untraced functions such as lstm_cell_layer_call_fn, lstm_cell_layer_call_and_return_conditional_losses, lstm_cell_1_layer_call_fn, lstm_cell_1_layer_call_and_return_conditional_losses while saving (showing 4 of 4). These functions will not be directly callable after loading.\n"
     ]
    },
    {
     "name": "stdout",
     "output_type": "stream",
     "text": [
      "INFO:tensorflow:Assets written to: model\\assets\n"
     ]
    },
    {
     "name": "stderr",
     "output_type": "stream",
     "text": [
      "INFO:tensorflow:Assets written to: model\\assets\n",
      "WARNING:absl:<keras.layers.recurrent.LSTMCell object at 0x0000028F109A5A30> has the same name 'LSTMCell' as a built-in Keras object. Consider renaming <class 'keras.layers.recurrent.LSTMCell'> to avoid naming conflicts when loading with `tf.keras.models.load_model`. If renaming is not possible, pass the object in the `custom_objects` parameter of the load function.\n",
      "WARNING:absl:<keras.layers.recurrent.LSTMCell object at 0x0000028F10812760> has the same name 'LSTMCell' as a built-in Keras object. Consider renaming <class 'keras.layers.recurrent.LSTMCell'> to avoid naming conflicts when loading with `tf.keras.models.load_model`. If renaming is not possible, pass the object in the `custom_objects` parameter of the load function.\n"
     ]
    },
    {
     "name": "stdout",
     "output_type": "stream",
     "text": [
      "561/561 [==============================] - 16s 28ms/step - loss: 0.0087 - root_mean_squared_error: 0.0934 - val_loss: 0.0223 - val_root_mean_squared_error: 0.1493\n",
      "Epoch 49/100\n",
      "561/561 [==============================] - 9s 16ms/step - loss: 0.0086 - root_mean_squared_error: 0.0930 - val_loss: 0.0226 - val_root_mean_squared_error: 0.1505\n",
      "Epoch 50/100\n",
      "561/561 [==============================] - 9s 15ms/step - loss: 0.0087 - root_mean_squared_error: 0.0931 - val_loss: 0.0255 - val_root_mean_squared_error: 0.1596\n",
      "Epoch 51/100\n",
      "561/561 [==============================] - 9s 15ms/step - loss: 0.0086 - root_mean_squared_error: 0.0930 - val_loss: 0.0234 - val_root_mean_squared_error: 0.1529\n",
      "Epoch 52/100\n",
      "561/561 [==============================] - 9s 16ms/step - loss: 0.0086 - root_mean_squared_error: 0.0928 - val_loss: 0.0245 - val_root_mean_squared_error: 0.1565\n",
      "Epoch 53/100\n",
      "561/561 [==============================] - 9s 16ms/step - loss: 0.0086 - root_mean_squared_error: 0.0928 - val_loss: 0.0233 - val_root_mean_squared_error: 0.1527\n",
      "Epoch 54/100\n",
      "561/561 [==============================] - 9s 16ms/step - loss: 0.0087 - root_mean_squared_error: 0.0932 - val_loss: 0.0248 - val_root_mean_squared_error: 0.1575\n",
      "Epoch 55/100\n",
      "561/561 [==============================] - 9s 16ms/step - loss: 0.0086 - root_mean_squared_error: 0.0929 - val_loss: 0.0233 - val_root_mean_squared_error: 0.1526\n",
      "Epoch 56/100\n",
      "561/561 [==============================] - 9s 16ms/step - loss: 0.0086 - root_mean_squared_error: 0.0927 - val_loss: 0.0244 - val_root_mean_squared_error: 0.1563\n",
      "Epoch 57/100\n",
      "561/561 [==============================] - 9s 16ms/step - loss: 0.0086 - root_mean_squared_error: 0.0925 - val_loss: 0.0233 - val_root_mean_squared_error: 0.1525\n",
      "Epoch 58/100\n",
      "561/561 [==============================] - 9s 16ms/step - loss: 0.0086 - root_mean_squared_error: 0.0927 - val_loss: 0.0229 - val_root_mean_squared_error: 0.1512\n",
      "Epoch 59/100\n",
      "561/561 [==============================] - 9s 16ms/step - loss: 0.0086 - root_mean_squared_error: 0.0927 - val_loss: 0.0237 - val_root_mean_squared_error: 0.1541\n",
      "Epoch 60/100\n",
      "561/561 [==============================] - 9s 16ms/step - loss: 0.0086 - root_mean_squared_error: 0.0928 - val_loss: 0.0244 - val_root_mean_squared_error: 0.1563\n",
      "Epoch 61/100\n",
      "561/561 [==============================] - 9s 16ms/step - loss: 0.0086 - root_mean_squared_error: 0.0929 - val_loss: 0.0233 - val_root_mean_squared_error: 0.1527\n",
      "Epoch 62/100\n",
      "561/561 [==============================] - 9s 16ms/step - loss: 0.0086 - root_mean_squared_error: 0.0925 - val_loss: 0.0236 - val_root_mean_squared_error: 0.1535\n",
      "Epoch 63/100\n",
      "561/561 [==============================] - 9s 16ms/step - loss: 0.0086 - root_mean_squared_error: 0.0927 - val_loss: 0.0237 - val_root_mean_squared_error: 0.1540\n",
      "Epoch 64/100\n",
      "561/561 [==============================] - 9s 16ms/step - loss: 0.0085 - root_mean_squared_error: 0.0924 - val_loss: 0.0231 - val_root_mean_squared_error: 0.1521\n",
      "Epoch 65/100\n",
      "561/561 [==============================] - 9s 15ms/step - loss: 0.0086 - root_mean_squared_error: 0.0926 - val_loss: 0.0237 - val_root_mean_squared_error: 0.1538\n",
      "Epoch 66/100\n",
      "561/561 [==============================] - 9s 16ms/step - loss: 0.0085 - root_mean_squared_error: 0.0924 - val_loss: 0.0240 - val_root_mean_squared_error: 0.1548\n",
      "Epoch 67/100\n",
      "561/561 [==============================] - 8s 15ms/step - loss: 0.0086 - root_mean_squared_error: 0.0925 - val_loss: 0.0242 - val_root_mean_squared_error: 0.1557\n",
      "Epoch 68/100\n",
      "561/561 [==============================] - 8s 15ms/step - loss: 0.0085 - root_mean_squared_error: 0.0923 - val_loss: 0.0235 - val_root_mean_squared_error: 0.1532\n",
      "Epoch 69/100\n",
      "561/561 [==============================] - 8s 15ms/step - loss: 0.0085 - root_mean_squared_error: 0.0925 - val_loss: 0.0246 - val_root_mean_squared_error: 0.1570\n",
      "Epoch 70/100\n",
      "561/561 [==============================] - 8s 15ms/step - loss: 0.0085 - root_mean_squared_error: 0.0923 - val_loss: 0.0241 - val_root_mean_squared_error: 0.1551\n",
      "Epoch 71/100\n",
      "561/561 [==============================] - 8s 14ms/step - loss: 0.0085 - root_mean_squared_error: 0.0925 - val_loss: 0.0242 - val_root_mean_squared_error: 0.1556\n",
      "Epoch 72/100\n",
      "561/561 [==============================] - 8s 15ms/step - loss: 0.0085 - root_mean_squared_error: 0.0923 - val_loss: 0.0254 - val_root_mean_squared_error: 0.1592\n",
      "Epoch 73/100\n",
      "561/561 [==============================] - 8s 14ms/step - loss: 0.0085 - root_mean_squared_error: 0.0921 - val_loss: 0.0247 - val_root_mean_squared_error: 0.1570\n",
      "Epoch 74/100\n",
      "561/561 [==============================] - 8s 15ms/step - loss: 0.0085 - root_mean_squared_error: 0.0922 - val_loss: 0.0251 - val_root_mean_squared_error: 0.1585\n",
      "Epoch 75/100\n",
      "561/561 [==============================] - 9s 16ms/step - loss: 0.0085 - root_mean_squared_error: 0.0924 - val_loss: 0.0236 - val_root_mean_squared_error: 0.1535\n",
      "Epoch 76/100\n",
      "561/561 [==============================] - 8s 15ms/step - loss: 0.0085 - root_mean_squared_error: 0.0922 - val_loss: 0.0229 - val_root_mean_squared_error: 0.1514\n",
      "Epoch 77/100\n",
      "561/561 [==============================] - 8s 15ms/step - loss: 0.0085 - root_mean_squared_error: 0.0923 - val_loss: 0.0232 - val_root_mean_squared_error: 0.1522\n",
      "Epoch 78/100\n",
      "561/561 [==============================] - 9s 16ms/step - loss: 0.0085 - root_mean_squared_error: 0.0921 - val_loss: 0.0241 - val_root_mean_squared_error: 0.1551\n",
      "Epoch 79/100\n",
      "561/561 [==============================] - 8s 15ms/step - loss: 0.0085 - root_mean_squared_error: 0.0922 - val_loss: 0.0230 - val_root_mean_squared_error: 0.1515\n",
      "Epoch 80/100\n",
      "561/561 [==============================] - 8s 15ms/step - loss: 0.0085 - root_mean_squared_error: 0.0920 - val_loss: 0.0244 - val_root_mean_squared_error: 0.1563\n",
      "Epoch 81/100\n",
      "561/561 [==============================] - 9s 15ms/step - loss: 0.0085 - root_mean_squared_error: 0.0920 - val_loss: 0.0238 - val_root_mean_squared_error: 0.1544\n",
      "Epoch 82/100\n",
      "561/561 [==============================] - 9s 16ms/step - loss: 0.0085 - root_mean_squared_error: 0.0921 - val_loss: 0.0235 - val_root_mean_squared_error: 0.1532\n",
      "Epoch 83/100\n",
      "561/561 [==============================] - 9s 16ms/step - loss: 0.0085 - root_mean_squared_error: 0.0921 - val_loss: 0.0237 - val_root_mean_squared_error: 0.1538\n",
      "Epoch 84/100\n",
      "561/561 [==============================] - 9s 16ms/step - loss: 0.0085 - root_mean_squared_error: 0.0920 - val_loss: 0.0229 - val_root_mean_squared_error: 0.1514\n",
      "Epoch 85/100\n",
      "561/561 [==============================] - 9s 17ms/step - loss: 0.0085 - root_mean_squared_error: 0.0922 - val_loss: 0.0237 - val_root_mean_squared_error: 0.1538\n",
      "Epoch 86/100\n",
      "561/561 [==============================] - 9s 16ms/step - loss: 0.0084 - root_mean_squared_error: 0.0919 - val_loss: 0.0250 - val_root_mean_squared_error: 0.1580\n",
      "Epoch 87/100\n",
      "561/561 [==============================] - 9s 17ms/step - loss: 0.0085 - root_mean_squared_error: 0.0920 - val_loss: 0.0237 - val_root_mean_squared_error: 0.1539\n",
      "Epoch 88/100\n",
      "561/561 [==============================] - 9s 17ms/step - loss: 0.0084 - root_mean_squared_error: 0.0918 - val_loss: 0.0230 - val_root_mean_squared_error: 0.1516\n",
      "Epoch 89/100\n",
      "561/561 [==============================] - 9s 16ms/step - loss: 0.0085 - root_mean_squared_error: 0.0921 - val_loss: 0.0251 - val_root_mean_squared_error: 0.1586\n",
      "Epoch 90/100\n",
      "561/561 [==============================] - 10s 18ms/step - loss: 0.0084 - root_mean_squared_error: 0.0919 - val_loss: 0.0245 - val_root_mean_squared_error: 0.1564\n",
      "Epoch 91/100\n",
      "561/561 [==============================] - 10s 17ms/step - loss: 0.0085 - root_mean_squared_error: 0.0919 - val_loss: 0.0236 - val_root_mean_squared_error: 0.1537\n",
      "Epoch 92/100\n",
      "561/561 [==============================] - 9s 17ms/step - loss: 0.0085 - root_mean_squared_error: 0.0921 - val_loss: 0.0234 - val_root_mean_squared_error: 0.1530\n",
      "Epoch 93/100\n",
      "561/561 [==============================] - 10s 17ms/step - loss: 0.0085 - root_mean_squared_error: 0.0920 - val_loss: 0.0235 - val_root_mean_squared_error: 0.1533\n",
      "Epoch 94/100\n",
      "561/561 [==============================] - 9s 17ms/step - loss: 0.0085 - root_mean_squared_error: 0.0919 - val_loss: 0.0231 - val_root_mean_squared_error: 0.1520\n",
      "Epoch 95/100\n",
      "561/561 [==============================] - 10s 17ms/step - loss: 0.0085 - root_mean_squared_error: 0.0921 - val_loss: 0.0246 - val_root_mean_squared_error: 0.1569\n",
      "Epoch 96/100\n",
      "561/561 [==============================] - 9s 17ms/step - loss: 0.0084 - root_mean_squared_error: 0.0918 - val_loss: 0.0229 - val_root_mean_squared_error: 0.1513\n",
      "Epoch 97/100\n",
      "561/561 [==============================] - 9s 16ms/step - loss: 0.0085 - root_mean_squared_error: 0.0919 - val_loss: 0.0245 - val_root_mean_squared_error: 0.1564\n",
      "Epoch 98/100\n",
      "561/561 [==============================] - 9s 16ms/step - loss: 0.0084 - root_mean_squared_error: 0.0918 - val_loss: 0.0234 - val_root_mean_squared_error: 0.1531\n",
      "Epoch 99/100\n",
      "561/561 [==============================] - 9s 15ms/step - loss: 0.0084 - root_mean_squared_error: 0.0918 - val_loss: 0.0240 - val_root_mean_squared_error: 0.1550\n",
      "Epoch 100/100\n",
      "561/561 [==============================] - 8s 15ms/step - loss: 0.0084 - root_mean_squared_error: 0.0919 - val_loss: 0.0234 - val_root_mean_squared_error: 0.1528\n"
     ]
    }
   ],
   "source": [
    "history=model.fit(X_train, y_train, validation_data=(X_validation, y_validation), epochs=100, callbacks=[cp])"
   ]
  },
  {
   "cell_type": "code",
   "execution_count": 9,
   "id": "d2036bcb-543a-412c-a0a4-de5b574bfe74",
   "metadata": {},
   "outputs": [
    {
     "data": {
      "image/png": "[encoded data removed]",
      "text/plain": [
       "<Figure size 640x480 with 1 Axes>"
      ]
     },
     "metadata": {},
     "output_type": "display_data"
    }
   ],
   "source": [
    "import matplotlib.pyplot as plt\n",
    "import mplcyberpunk\n",
    "plt.style.use('cyberpunk')\n",
    "plt.plot(history.history['root_mean_squared_error'])\n",
    "plt.ylabel('RMSE')\n",
    "plt.xlabel('Epoch')\n",
    "plt.legend([ 'Normalized dataset'])\n",
    "plt.title('RMSE VS Epoch')\n",
    "df_history=pd.DataFrame()\n",
    "df_history['root_mean_squared_error']=history.history['root_mean_squared_error']\n",
    "# df_history.to_pickle(\"./rmse_normalized.pkl\") "
   ]
  },
  {
   "cell_type": "code",
   "execution_count": 10,
   "id": "23cfc192-8760-4725-b0ac-f2ccc55a16cc",
   "metadata": {},
   "outputs": [],
   "source": [
    "from tensorflow.keras.models import load_model\n",
    "model = load_model('model/')"
   ]
  },
  {
   "cell_type": "code",
   "execution_count": 100,
   "id": "6753ebfe-643a-4737-8fa9-1d08714307e7",
   "metadata": {},
   "outputs": [
    {
     "data": {
      "text/plain": [
       "<matplotlib.legend.Legend at 0x28f3936f850>"
      ]
     },
     "execution_count": 100,
     "metadata": {},
     "output_type": "execute_result"
    },
    {
     "data": {
      "image/png": "[encoded data removed]",
      "text/plain": [
       "<Figure size 640x480 with 1 Axes>"
      ]
     },
     "metadata": {},
     "output_type": "display_data"
    }
   ],
   "source": [
    "id = random.randint(1,100)\n",
    "dataset_n=1\n",
    "window=5\n",
    "df=pd.read_csv(\"Test_{}.csv\".format(dataset_n))\n",
    "df=df[df['ID']==id]\n",
    "df_pred=df.copy()\n",
    "df_pred[cols_to_scale] = pd.DataFrame(scale_train.transform(df_pred[cols_to_scale].values), columns=cols_to_scale, index=df_pred.index)\n",
    "X_id,y_id=ts_idlist(df_pred,[id],window)\n",
    "test_predictions = model.predict(X_id).flatten()\n",
    "df_pred = df_pred.iloc[window:,:]\n",
    "df_pred['RUL']=test_predictions.tolist()\n",
    "df_pred[cols_to_scale] = pd.DataFrame(scale_train.inverse_transform(df_pred[cols_to_scale].values), columns=cols_to_scale, index=df_pred.index)\n",
    "\n",
    "import matplotlib.pyplot as plt\n",
    "import mplcyberpunk\n",
    "plt.style.use('cyberpunk')\n",
    "plt.ylabel('Remaining Useful Life (cycles)')\n",
    "plt.xlabel('Cycle')\n",
    "plt.title('Engine {} RMSE={:.2f}'.format(id,np.sqrt(metrics.mean_squared_error(df['RUL'][window:],df_pred['RUL']))))\n",
    "#plt.plot(train_results['Actuals'])\n",
    "plt.plot(df['Cycle'],df['RUL'])\n",
    "plt.plot(df_pred['Cycle'],df_pred['RUL'])\n",
    "plt.legend([ 'Actual','Prediction'])"
   ]
  },
  {
   "cell_type": "code",
   "execution_count": 12,
   "id": "a87c40fa-ebd1-4aeb-9359-91aabedceb3e",
   "metadata": {},
   "outputs": [],
   "source": [
    "#df_pred.to_pickle(\"./pred_normalized.pkl\")\n",
    "#df.to_pickle(\"./actual_normalized.pkl\")"
   ]
  },
  {
   "cell_type": "code",
   "execution_count": 49,
   "id": "42eaae7f-9819-4338-a641-81b54c822ef3",
   "metadata": {},
   "outputs": [],
   "source": [
    "df_pred_raw = pd.read_pickle(\"./pred_raw.pkl\")\n",
    "df_history_raw = pd.read_pickle(\"./rmse_raw.pkl\")"
   ]
  },
  {
   "cell_type": "code",
   "execution_count": 52,
   "id": "27e28206-910f-4d8b-a962-beecae5c0a11",
   "metadata": {},
   "outputs": [
    {
     "data": {
      "text/plain": [
       "<matplotlib.legend.Legend at 0x28f368f26d0>"
      ]
     },
     "execution_count": 52,
     "metadata": {},
     "output_type": "execute_result"
    },
    {
     "data": {
      "image/png": "[encoded data removed]",
      "text/plain": [
       "<Figure size 640x480 with 1 Axes>"
      ]
     },
     "metadata": {},
     "output_type": "display_data"
    }
   ],
   "source": [
    "id = random.randint(1,100)\n",
    "id=35\n",
    "dataset_n=1\n",
    "window=5\n",
    "df=pd.read_csv(\"Test_{}.csv\".format(dataset_n))\n",
    "df=df[df['ID']==id]\n",
    "df_pred=df.copy()\n",
    "df_pred[cols_to_scale] = pd.DataFrame(scale_train.transform(df_pred[cols_to_scale].values), columns=cols_to_scale, index=df_pred.index)\n",
    "X_id,y_id=ts_idlist(df_pred,[id],window)\n",
    "test_predictions = model.predict(X_id).flatten()\n",
    "df_pred = df_pred.iloc[window:,:]\n",
    "df_pred['RUL']=test_predictions.tolist()\n",
    "df_pred[cols_to_scale] = pd.DataFrame(scale_train.inverse_transform(df_pred[cols_to_scale].values), columns=cols_to_scale, index=df_pred.index)\n",
    "\n",
    "import matplotlib.pyplot as plt\n",
    "import mplcyberpunk\n",
    "plt.style.use('cyberpunk')\n",
    "plt.ylabel('Remaining Useful Life (cycles)')\n",
    "plt.xlabel('Cycle')\n",
    "#plt.title('Engine {} RMSE={:.2f}'.format(id,np.sqrt(metrics.mean_squared_error(df['RUL'][window:],df_pred['RUL']))))\n",
    "#plt.title('Engine {} RMSE={:.2f}'.format(id,np.sqrt(metrics.mean_squared_error(df['RUL'][window:],df_pred_raw['RUL']))))\n",
    "plt.title('Engine {}'.format(id))\n",
    "#plt.plot(train_results['Actuals'])\n",
    "plt.plot(df['Cycle'],df['RUL'])\n",
    "plt.plot(df_pred['Cycle'],df_pred['RUL'])\n",
    "plt.plot(df_pred_raw['Cycle'],df_pred_raw['RUL'])\n",
    "plt.legend([ 'Actual','Normalized Dataset Prediction','Raw Dataset Prediction'])"
   ]
  },
  {
   "cell_type": "code",
   "execution_count": 41,
   "id": "39a6c0bd-ecfa-457c-b658-c79e01505b98",
   "metadata": {},
   "outputs": [
    {
     "data": {
      "text/plain": [
       "100"
      ]
     },
     "execution_count": 41,
     "metadata": {},
     "output_type": "execute_result"
    }
   ],
   "source": [
    "#use an arbitrary dataset to scale the loss of the raw dataset\n",
    "df_pred_raw = pd.read_pickle(\"./pred_raw.pkl\")\n",
    "df_pred_raw=df_pred_raw.iloc[93:,:]\n",
    "len(df_pred_raw)"
   ]
  },
  {
   "cell_type": "code",
   "execution_count": 42,
   "id": "b7027064-75c7-48c7-8d6f-8653028ebded",
   "metadata": {},
   "outputs": [
    {
     "data": {
      "text/plain": [
       "100"
      ]
     },
     "execution_count": 42,
     "metadata": {},
     "output_type": "execute_result"
    }
   ],
   "source": [
    "len(df_history_raw)"
   ]
  },
  {
   "cell_type": "code",
   "execution_count": 43,
   "id": "b4e5fe22-0c6e-4c11-b926-86c7c0c8f71d",
   "metadata": {},
   "outputs": [
    {
     "data": {
      "text/html": [
       "<div>\n",
       "<style scoped>\n",
       "    .dataframe tbody tr th:only-of-type {\n",
       "        vertical-align: middle;\n",
       "    }\n",
       "\n",
       "    .dataframe tbody tr th {\n",
       "        vertical-align: top;\n",
       "    }\n",
       "\n",
       "    .dataframe thead th {\n",
       "        text-align: right;\n",
       "    }\n",
       "</style>\n",
       "<table border=\"1\" class=\"dataframe\">\n",
       "  <thead>\n",
       "    <tr style=\"text-align: right;\">\n",
       "      <th></th>\n",
       "      <th>ID</th>\n",
       "      <th>Cycle</th>\n",
       "      <th>LPCOutletTemperatureR</th>\n",
       "      <th>HPCOutletTemperatureR</th>\n",
       "      <th>LPTOutletTemperatureR</th>\n",
       "      <th>HPCOutletPressurePsia</th>\n",
       "      <th>PhysicalFanSpeedRpm</th>\n",
       "      <th>HPCOutletStaticPressurePsia</th>\n",
       "      <th>RatioofFuelFlowtoPs30PpsPsia</th>\n",
       "      <th>CorrectedFanSpeed</th>\n",
       "      <th>BypassRatio</th>\n",
       "      <th>BleedEntalphy</th>\n",
       "      <th>HighPressureTurbinesCoolAirFlow</th>\n",
       "      <th>LowPressureTurbinesCoolAirFlow</th>\n",
       "      <th>RUL</th>\n",
       "    </tr>\n",
       "  </thead>\n",
       "  <tbody>\n",
       "    <tr>\n",
       "      <th>4366</th>\n",
       "      <td>35</td>\n",
       "      <td>99</td>\n",
       "      <td>643.18</td>\n",
       "      <td>1588.60</td>\n",
       "      <td>1408.21</td>\n",
       "      <td>553.47</td>\n",
       "      <td>2388.17</td>\n",
       "      <td>47.55</td>\n",
       "      <td>520.89</td>\n",
       "      <td>2388.10</td>\n",
       "      <td>8.4698</td>\n",
       "      <td>393</td>\n",
       "      <td>38.72</td>\n",
       "      <td>23.2590</td>\n",
       "      <td>111.331352</td>\n",
       "    </tr>\n",
       "    <tr>\n",
       "      <th>4367</th>\n",
       "      <td>35</td>\n",
       "      <td>100</td>\n",
       "      <td>642.96</td>\n",
       "      <td>1595.50</td>\n",
       "      <td>1416.78</td>\n",
       "      <td>552.73</td>\n",
       "      <td>2388.17</td>\n",
       "      <td>47.70</td>\n",
       "      <td>521.35</td>\n",
       "      <td>2388.07</td>\n",
       "      <td>8.4555</td>\n",
       "      <td>393</td>\n",
       "      <td>38.63</td>\n",
       "      <td>23.2752</td>\n",
       "      <td>104.415726</td>\n",
       "    </tr>\n",
       "    <tr>\n",
       "      <th>4368</th>\n",
       "      <td>35</td>\n",
       "      <td>101</td>\n",
       "      <td>642.41</td>\n",
       "      <td>1591.71</td>\n",
       "      <td>1416.44</td>\n",
       "      <td>552.51</td>\n",
       "      <td>2388.16</td>\n",
       "      <td>47.62</td>\n",
       "      <td>521.50</td>\n",
       "      <td>2388.16</td>\n",
       "      <td>8.4747</td>\n",
       "      <td>392</td>\n",
       "      <td>38.94</td>\n",
       "      <td>23.2908</td>\n",
       "      <td>100.511620</td>\n",
       "    </tr>\n",
       "    <tr>\n",
       "      <th>4369</th>\n",
       "      <td>35</td>\n",
       "      <td>102</td>\n",
       "      <td>642.73</td>\n",
       "      <td>1592.70</td>\n",
       "      <td>1413.16</td>\n",
       "      <td>553.43</td>\n",
       "      <td>2388.11</td>\n",
       "      <td>47.84</td>\n",
       "      <td>521.48</td>\n",
       "      <td>2388.11</td>\n",
       "      <td>8.4291</td>\n",
       "      <td>393</td>\n",
       "      <td>38.71</td>\n",
       "      <td>23.2618</td>\n",
       "      <td>96.945427</td>\n",
       "    </tr>\n",
       "    <tr>\n",
       "      <th>4370</th>\n",
       "      <td>35</td>\n",
       "      <td>103</td>\n",
       "      <td>642.70</td>\n",
       "      <td>1593.43</td>\n",
       "      <td>1408.28</td>\n",
       "      <td>553.13</td>\n",
       "      <td>2388.08</td>\n",
       "      <td>47.68</td>\n",
       "      <td>521.49</td>\n",
       "      <td>2388.16</td>\n",
       "      <td>8.4371</td>\n",
       "      <td>393</td>\n",
       "      <td>38.86</td>\n",
       "      <td>23.2296</td>\n",
       "      <td>93.609261</td>\n",
       "    </tr>\n",
       "    <tr>\n",
       "      <th>...</th>\n",
       "      <td>...</td>\n",
       "      <td>...</td>\n",
       "      <td>...</td>\n",
       "      <td>...</td>\n",
       "      <td>...</td>\n",
       "      <td>...</td>\n",
       "      <td>...</td>\n",
       "      <td>...</td>\n",
       "      <td>...</td>\n",
       "      <td>...</td>\n",
       "      <td>...</td>\n",
       "      <td>...</td>\n",
       "      <td>...</td>\n",
       "      <td>...</td>\n",
       "      <td>...</td>\n",
       "    </tr>\n",
       "    <tr>\n",
       "      <th>4461</th>\n",
       "      <td>35</td>\n",
       "      <td>194</td>\n",
       "      <td>643.48</td>\n",
       "      <td>1601.37</td>\n",
       "      <td>1419.80</td>\n",
       "      <td>552.04</td>\n",
       "      <td>2388.20</td>\n",
       "      <td>47.99</td>\n",
       "      <td>520.02</td>\n",
       "      <td>2388.19</td>\n",
       "      <td>8.4845</td>\n",
       "      <td>397</td>\n",
       "      <td>38.58</td>\n",
       "      <td>23.2015</td>\n",
       "      <td>38.823475</td>\n",
       "    </tr>\n",
       "    <tr>\n",
       "      <th>4462</th>\n",
       "      <td>35</td>\n",
       "      <td>195</td>\n",
       "      <td>643.42</td>\n",
       "      <td>1599.51</td>\n",
       "      <td>1429.31</td>\n",
       "      <td>551.93</td>\n",
       "      <td>2388.20</td>\n",
       "      <td>48.05</td>\n",
       "      <td>520.02</td>\n",
       "      <td>2388.22</td>\n",
       "      <td>8.5088</td>\n",
       "      <td>395</td>\n",
       "      <td>38.69</td>\n",
       "      <td>23.0403</td>\n",
       "      <td>38.746075</td>\n",
       "    </tr>\n",
       "    <tr>\n",
       "      <th>4463</th>\n",
       "      <td>35</td>\n",
       "      <td>196</td>\n",
       "      <td>643.42</td>\n",
       "      <td>1598.79</td>\n",
       "      <td>1424.96</td>\n",
       "      <td>551.79</td>\n",
       "      <td>2388.23</td>\n",
       "      <td>47.82</td>\n",
       "      <td>519.77</td>\n",
       "      <td>2388.20</td>\n",
       "      <td>8.5005</td>\n",
       "      <td>397</td>\n",
       "      <td>38.65</td>\n",
       "      <td>23.1273</td>\n",
       "      <td>38.407658</td>\n",
       "    </tr>\n",
       "    <tr>\n",
       "      <th>4464</th>\n",
       "      <td>35</td>\n",
       "      <td>197</td>\n",
       "      <td>643.39</td>\n",
       "      <td>1596.37</td>\n",
       "      <td>1427.93</td>\n",
       "      <td>552.06</td>\n",
       "      <td>2388.23</td>\n",
       "      <td>48.26</td>\n",
       "      <td>520.53</td>\n",
       "      <td>2388.18</td>\n",
       "      <td>8.5375</td>\n",
       "      <td>394</td>\n",
       "      <td>38.39</td>\n",
       "      <td>23.0200</td>\n",
       "      <td>38.530067</td>\n",
       "    </tr>\n",
       "    <tr>\n",
       "      <th>4465</th>\n",
       "      <td>35</td>\n",
       "      <td>198</td>\n",
       "      <td>643.40</td>\n",
       "      <td>1602.02</td>\n",
       "      <td>1428.42</td>\n",
       "      <td>551.76</td>\n",
       "      <td>2388.26</td>\n",
       "      <td>48.10</td>\n",
       "      <td>519.81</td>\n",
       "      <td>2388.22</td>\n",
       "      <td>8.5141</td>\n",
       "      <td>395</td>\n",
       "      <td>38.63</td>\n",
       "      <td>23.1161</td>\n",
       "      <td>38.480644</td>\n",
       "    </tr>\n",
       "  </tbody>\n",
       "</table>\n",
       "<p>100 rows × 15 columns</p>\n",
       "</div>"
      ],
      "text/plain": [
       "      ID  Cycle  LPCOutletTemperatureR  HPCOutletTemperatureR  \\\n",
       "4366  35     99                 643.18                1588.60   \n",
       "4367  35    100                 642.96                1595.50   \n",
       "4368  35    101                 642.41                1591.71   \n",
       "4369  35    102                 642.73                1592.70   \n",
       "4370  35    103                 642.70                1593.43   \n",
       "...   ..    ...                    ...                    ...   \n",
       "4461  35    194                 643.48                1601.37   \n",
       "4462  35    195                 643.42                1599.51   \n",
       "4463  35    196                 643.42                1598.79   \n",
       "4464  35    197                 643.39                1596.37   \n",
       "4465  35    198                 643.40                1602.02   \n",
       "\n",
       "      LPTOutletTemperatureR  HPCOutletPressurePsia  PhysicalFanSpeedRpm  \\\n",
       "4366                1408.21                 553.47              2388.17   \n",
       "4367                1416.78                 552.73              2388.17   \n",
       "4368                1416.44                 552.51              2388.16   \n",
       "4369                1413.16                 553.43              2388.11   \n",
       "4370                1408.28                 553.13              2388.08   \n",
       "...                     ...                    ...                  ...   \n",
       "4461                1419.80                 552.04              2388.20   \n",
       "4462                1429.31                 551.93              2388.20   \n",
       "4463                1424.96                 551.79              2388.23   \n",
       "4464                1427.93                 552.06              2388.23   \n",
       "4465                1428.42                 551.76              2388.26   \n",
       "\n",
       "      HPCOutletStaticPressurePsia  RatioofFuelFlowtoPs30PpsPsia  \\\n",
       "4366                        47.55                        520.89   \n",
       "4367                        47.70                        521.35   \n",
       "4368                        47.62                        521.50   \n",
       "4369                        47.84                        521.48   \n",
       "4370                        47.68                        521.49   \n",
       "...                           ...                           ...   \n",
       "4461                        47.99                        520.02   \n",
       "4462                        48.05                        520.02   \n",
       "4463                        47.82                        519.77   \n",
       "4464                        48.26                        520.53   \n",
       "4465                        48.10                        519.81   \n",
       "\n",
       "      CorrectedFanSpeed  BypassRatio  BleedEntalphy  \\\n",
       "4366            2388.10       8.4698            393   \n",
       "4367            2388.07       8.4555            393   \n",
       "4368            2388.16       8.4747            392   \n",
       "4369            2388.11       8.4291            393   \n",
       "4370            2388.16       8.4371            393   \n",
       "...                 ...          ...            ...   \n",
       "4461            2388.19       8.4845            397   \n",
       "4462            2388.22       8.5088            395   \n",
       "4463            2388.20       8.5005            397   \n",
       "4464            2388.18       8.5375            394   \n",
       "4465            2388.22       8.5141            395   \n",
       "\n",
       "      HighPressureTurbinesCoolAirFlow  LowPressureTurbinesCoolAirFlow  \\\n",
       "4366                            38.72                         23.2590   \n",
       "4367                            38.63                         23.2752   \n",
       "4368                            38.94                         23.2908   \n",
       "4369                            38.71                         23.2618   \n",
       "4370                            38.86                         23.2296   \n",
       "...                               ...                             ...   \n",
       "4461                            38.58                         23.2015   \n",
       "4462                            38.69                         23.0403   \n",
       "4463                            38.65                         23.1273   \n",
       "4464                            38.39                         23.0200   \n",
       "4465                            38.63                         23.1161   \n",
       "\n",
       "             RUL  \n",
       "4366  111.331352  \n",
       "4367  104.415726  \n",
       "4368  100.511620  \n",
       "4369   96.945427  \n",
       "4370   93.609261  \n",
       "...          ...  \n",
       "4461   38.823475  \n",
       "4462   38.746075  \n",
       "4463   38.407658  \n",
       "4464   38.530067  \n",
       "4465   38.480644  \n",
       "\n",
       "[100 rows x 15 columns]"
      ]
     },
     "execution_count": 43,
     "metadata": {},
     "output_type": "execute_result"
    }
   ],
   "source": [
    "x=df_history_raw['root_mean_squared_error'].tolist()\n",
    "df_pred_raw['RUL']=x\n",
    "df_pred_raw"
   ]
  },
  {
   "cell_type": "code",
   "execution_count": 44,
   "id": "3ca685e5-87dd-4c8b-819b-49ee889fb8ff",
   "metadata": {},
   "outputs": [],
   "source": [
    "df_pred_raw[cols_to_scale] = pd.DataFrame(scale_train.transform(df_pred_raw[cols_to_scale].values), columns=cols_to_scale, index=df_pred_raw.index)"
   ]
  },
  {
   "cell_type": "code",
   "execution_count": 45,
   "id": "9d734659-0b04-4be4-b24e-ddf7a5abd288",
   "metadata": {},
   "outputs": [
    {
     "data": {
      "text/html": [
       "<div>\n",
       "<style scoped>\n",
       "    .dataframe tbody tr th:only-of-type {\n",
       "        vertical-align: middle;\n",
       "    }\n",
       "\n",
       "    .dataframe tbody tr th {\n",
       "        vertical-align: top;\n",
       "    }\n",
       "\n",
       "    .dataframe thead th {\n",
       "        text-align: right;\n",
       "    }\n",
       "</style>\n",
       "<table border=\"1\" class=\"dataframe\">\n",
       "  <thead>\n",
       "    <tr style=\"text-align: right;\">\n",
       "      <th></th>\n",
       "      <th>ID</th>\n",
       "      <th>Cycle</th>\n",
       "      <th>LPCOutletTemperatureR</th>\n",
       "      <th>HPCOutletTemperatureR</th>\n",
       "      <th>LPTOutletTemperatureR</th>\n",
       "      <th>HPCOutletPressurePsia</th>\n",
       "      <th>PhysicalFanSpeedRpm</th>\n",
       "      <th>HPCOutletStaticPressurePsia</th>\n",
       "      <th>RatioofFuelFlowtoPs30PpsPsia</th>\n",
       "      <th>CorrectedFanSpeed</th>\n",
       "      <th>BypassRatio</th>\n",
       "      <th>BleedEntalphy</th>\n",
       "      <th>HighPressureTurbinesCoolAirFlow</th>\n",
       "      <th>LowPressureTurbinesCoolAirFlow</th>\n",
       "      <th>RUL</th>\n",
       "    </tr>\n",
       "  </thead>\n",
       "  <tbody>\n",
       "    <tr>\n",
       "      <th>4366</th>\n",
       "      <td>35</td>\n",
       "      <td>0.271468</td>\n",
       "      <td>0.593373</td>\n",
       "      <td>0.382821</td>\n",
       "      <td>0.438217</td>\n",
       "      <td>0.582931</td>\n",
       "      <td>0.409091</td>\n",
       "      <td>0.416667</td>\n",
       "      <td>0.469083</td>\n",
       "      <td>0.323529</td>\n",
       "      <td>0.557522</td>\n",
       "      <td>0.416667</td>\n",
       "      <td>0.449612</td>\n",
       "      <td>0.503728</td>\n",
       "      <td>0.308397</td>\n",
       "    </tr>\n",
       "    <tr>\n",
       "      <th>4367</th>\n",
       "      <td>35</td>\n",
       "      <td>0.274238</td>\n",
       "      <td>0.527108</td>\n",
       "      <td>0.533246</td>\n",
       "      <td>0.582883</td>\n",
       "      <td>0.463768</td>\n",
       "      <td>0.409091</td>\n",
       "      <td>0.505952</td>\n",
       "      <td>0.567164</td>\n",
       "      <td>0.279412</td>\n",
       "      <td>0.502501</td>\n",
       "      <td>0.416667</td>\n",
       "      <td>0.379845</td>\n",
       "      <td>0.526098</td>\n",
       "      <td>0.289240</td>\n",
       "    </tr>\n",
       "    <tr>\n",
       "      <th>4368</th>\n",
       "      <td>35</td>\n",
       "      <td>0.277008</td>\n",
       "      <td>0.361446</td>\n",
       "      <td>0.450621</td>\n",
       "      <td>0.577144</td>\n",
       "      <td>0.428341</td>\n",
       "      <td>0.393939</td>\n",
       "      <td>0.458333</td>\n",
       "      <td>0.599147</td>\n",
       "      <td>0.411765</td>\n",
       "      <td>0.576376</td>\n",
       "      <td>0.333333</td>\n",
       "      <td>0.620155</td>\n",
       "      <td>0.547639</td>\n",
       "      <td>0.278426</td>\n",
       "    </tr>\n",
       "    <tr>\n",
       "      <th>4369</th>\n",
       "      <td>35</td>\n",
       "      <td>0.279778</td>\n",
       "      <td>0.457831</td>\n",
       "      <td>0.472204</td>\n",
       "      <td>0.521776</td>\n",
       "      <td>0.576490</td>\n",
       "      <td>0.318182</td>\n",
       "      <td>0.589286</td>\n",
       "      <td>0.594883</td>\n",
       "      <td>0.338235</td>\n",
       "      <td>0.400923</td>\n",
       "      <td>0.416667</td>\n",
       "      <td>0.441860</td>\n",
       "      <td>0.507595</td>\n",
       "      <td>0.268547</td>\n",
       "    </tr>\n",
       "    <tr>\n",
       "      <th>4370</th>\n",
       "      <td>35</td>\n",
       "      <td>0.282548</td>\n",
       "      <td>0.448795</td>\n",
       "      <td>0.488119</td>\n",
       "      <td>0.439399</td>\n",
       "      <td>0.528180</td>\n",
       "      <td>0.272727</td>\n",
       "      <td>0.494048</td>\n",
       "      <td>0.597015</td>\n",
       "      <td>0.411765</td>\n",
       "      <td>0.431705</td>\n",
       "      <td>0.416667</td>\n",
       "      <td>0.558140</td>\n",
       "      <td>0.463132</td>\n",
       "      <td>0.259305</td>\n",
       "    </tr>\n",
       "    <tr>\n",
       "      <th>...</th>\n",
       "      <td>...</td>\n",
       "      <td>...</td>\n",
       "      <td>...</td>\n",
       "      <td>...</td>\n",
       "      <td>...</td>\n",
       "      <td>...</td>\n",
       "      <td>...</td>\n",
       "      <td>...</td>\n",
       "      <td>...</td>\n",
       "      <td>...</td>\n",
       "      <td>...</td>\n",
       "      <td>...</td>\n",
       "      <td>...</td>\n",
       "      <td>...</td>\n",
       "      <td>...</td>\n",
       "    </tr>\n",
       "    <tr>\n",
       "      <th>4461</th>\n",
       "      <td>35</td>\n",
       "      <td>0.534626</td>\n",
       "      <td>0.683735</td>\n",
       "      <td>0.661216</td>\n",
       "      <td>0.633862</td>\n",
       "      <td>0.352657</td>\n",
       "      <td>0.454545</td>\n",
       "      <td>0.678571</td>\n",
       "      <td>0.283582</td>\n",
       "      <td>0.455882</td>\n",
       "      <td>0.614082</td>\n",
       "      <td>0.750000</td>\n",
       "      <td>0.341085</td>\n",
       "      <td>0.424330</td>\n",
       "      <td>0.107544</td>\n",
       "    </tr>\n",
       "    <tr>\n",
       "      <th>4462</th>\n",
       "      <td>35</td>\n",
       "      <td>0.537396</td>\n",
       "      <td>0.665663</td>\n",
       "      <td>0.620667</td>\n",
       "      <td>0.794396</td>\n",
       "      <td>0.334944</td>\n",
       "      <td>0.454545</td>\n",
       "      <td>0.714286</td>\n",
       "      <td>0.283582</td>\n",
       "      <td>0.500000</td>\n",
       "      <td>0.707580</td>\n",
       "      <td>0.583333</td>\n",
       "      <td>0.426357</td>\n",
       "      <td>0.201740</td>\n",
       "      <td>0.107330</td>\n",
       "    </tr>\n",
       "    <tr>\n",
       "      <th>4463</th>\n",
       "      <td>35</td>\n",
       "      <td>0.540166</td>\n",
       "      <td>0.665663</td>\n",
       "      <td>0.604971</td>\n",
       "      <td>0.720966</td>\n",
       "      <td>0.312399</td>\n",
       "      <td>0.500000</td>\n",
       "      <td>0.577381</td>\n",
       "      <td>0.230277</td>\n",
       "      <td>0.470588</td>\n",
       "      <td>0.675644</td>\n",
       "      <td>0.750000</td>\n",
       "      <td>0.395349</td>\n",
       "      <td>0.321872</td>\n",
       "      <td>0.106392</td>\n",
       "    </tr>\n",
       "    <tr>\n",
       "      <th>4464</th>\n",
       "      <td>35</td>\n",
       "      <td>0.542936</td>\n",
       "      <td>0.656627</td>\n",
       "      <td>0.552213</td>\n",
       "      <td>0.771101</td>\n",
       "      <td>0.355878</td>\n",
       "      <td>0.500000</td>\n",
       "      <td>0.839286</td>\n",
       "      <td>0.392324</td>\n",
       "      <td>0.441176</td>\n",
       "      <td>0.818007</td>\n",
       "      <td>0.500000</td>\n",
       "      <td>0.193798</td>\n",
       "      <td>0.173709</td>\n",
       "      <td>0.106731</td>\n",
       "    </tr>\n",
       "    <tr>\n",
       "      <th>4465</th>\n",
       "      <td>35</td>\n",
       "      <td>0.545706</td>\n",
       "      <td>0.659639</td>\n",
       "      <td>0.675387</td>\n",
       "      <td>0.779372</td>\n",
       "      <td>0.307568</td>\n",
       "      <td>0.545455</td>\n",
       "      <td>0.744048</td>\n",
       "      <td>0.238806</td>\n",
       "      <td>0.500000</td>\n",
       "      <td>0.727972</td>\n",
       "      <td>0.583333</td>\n",
       "      <td>0.379845</td>\n",
       "      <td>0.306407</td>\n",
       "      <td>0.106595</td>\n",
       "    </tr>\n",
       "  </tbody>\n",
       "</table>\n",
       "<p>100 rows × 15 columns</p>\n",
       "</div>"
      ],
      "text/plain": [
       "      ID     Cycle  LPCOutletTemperatureR  HPCOutletTemperatureR  \\\n",
       "4366  35  0.271468               0.593373               0.382821   \n",
       "4367  35  0.274238               0.527108               0.533246   \n",
       "4368  35  0.277008               0.361446               0.450621   \n",
       "4369  35  0.279778               0.457831               0.472204   \n",
       "4370  35  0.282548               0.448795               0.488119   \n",
       "...   ..       ...                    ...                    ...   \n",
       "4461  35  0.534626               0.683735               0.661216   \n",
       "4462  35  0.537396               0.665663               0.620667   \n",
       "4463  35  0.540166               0.665663               0.604971   \n",
       "4464  35  0.542936               0.656627               0.552213   \n",
       "4465  35  0.545706               0.659639               0.675387   \n",
       "\n",
       "      LPTOutletTemperatureR  HPCOutletPressurePsia  PhysicalFanSpeedRpm  \\\n",
       "4366               0.438217               0.582931             0.409091   \n",
       "4367               0.582883               0.463768             0.409091   \n",
       "4368               0.577144               0.428341             0.393939   \n",
       "4369               0.521776               0.576490             0.318182   \n",
       "4370               0.439399               0.528180             0.272727   \n",
       "...                     ...                    ...                  ...   \n",
       "4461               0.633862               0.352657             0.454545   \n",
       "4462               0.794396               0.334944             0.454545   \n",
       "4463               0.720966               0.312399             0.500000   \n",
       "4464               0.771101               0.355878             0.500000   \n",
       "4465               0.779372               0.307568             0.545455   \n",
       "\n",
       "      HPCOutletStaticPressurePsia  RatioofFuelFlowtoPs30PpsPsia  \\\n",
       "4366                     0.416667                      0.469083   \n",
       "4367                     0.505952                      0.567164   \n",
       "4368                     0.458333                      0.599147   \n",
       "4369                     0.589286                      0.594883   \n",
       "4370                     0.494048                      0.597015   \n",
       "...                           ...                           ...   \n",
       "4461                     0.678571                      0.283582   \n",
       "4462                     0.714286                      0.283582   \n",
       "4463                     0.577381                      0.230277   \n",
       "4464                     0.839286                      0.392324   \n",
       "4465                     0.744048                      0.238806   \n",
       "\n",
       "      CorrectedFanSpeed  BypassRatio  BleedEntalphy  \\\n",
       "4366           0.323529     0.557522       0.416667   \n",
       "4367           0.279412     0.502501       0.416667   \n",
       "4368           0.411765     0.576376       0.333333   \n",
       "4369           0.338235     0.400923       0.416667   \n",
       "4370           0.411765     0.431705       0.416667   \n",
       "...                 ...          ...            ...   \n",
       "4461           0.455882     0.614082       0.750000   \n",
       "4462           0.500000     0.707580       0.583333   \n",
       "4463           0.470588     0.675644       0.750000   \n",
       "4464           0.441176     0.818007       0.500000   \n",
       "4465           0.500000     0.727972       0.583333   \n",
       "\n",
       "      HighPressureTurbinesCoolAirFlow  LowPressureTurbinesCoolAirFlow  \\\n",
       "4366                         0.449612                        0.503728   \n",
       "4367                         0.379845                        0.526098   \n",
       "4368                         0.620155                        0.547639   \n",
       "4369                         0.441860                        0.507595   \n",
       "4370                         0.558140                        0.463132   \n",
       "...                               ...                             ...   \n",
       "4461                         0.341085                        0.424330   \n",
       "4462                         0.426357                        0.201740   \n",
       "4463                         0.395349                        0.321872   \n",
       "4464                         0.193798                        0.173709   \n",
       "4465                         0.379845                        0.306407   \n",
       "\n",
       "           RUL  \n",
       "4366  0.308397  \n",
       "4367  0.289240  \n",
       "4368  0.278426  \n",
       "4369  0.268547  \n",
       "4370  0.259305  \n",
       "...        ...  \n",
       "4461  0.107544  \n",
       "4462  0.107330  \n",
       "4463  0.106392  \n",
       "4464  0.106731  \n",
       "4465  0.106595  \n",
       "\n",
       "[100 rows x 15 columns]"
      ]
     },
     "execution_count": 45,
     "metadata": {},
     "output_type": "execute_result"
    }
   ],
   "source": [
    "df_pred_raw"
   ]
  },
  {
   "cell_type": "code",
   "execution_count": 46,
   "id": "6c4a305e-3143-4f53-8723-562a47c2d9f5",
   "metadata": {},
   "outputs": [
    {
     "data": {
      "text/html": [
       "<div>\n",
       "<style scoped>\n",
       "    .dataframe tbody tr th:only-of-type {\n",
       "        vertical-align: middle;\n",
       "    }\n",
       "\n",
       "    .dataframe tbody tr th {\n",
       "        vertical-align: top;\n",
       "    }\n",
       "\n",
       "    .dataframe thead th {\n",
       "        text-align: right;\n",
       "    }\n",
       "</style>\n",
       "<table border=\"1\" class=\"dataframe\">\n",
       "  <thead>\n",
       "    <tr style=\"text-align: right;\">\n",
       "      <th></th>\n",
       "      <th>root_mean_squared_error</th>\n",
       "    </tr>\n",
       "  </thead>\n",
       "  <tbody>\n",
       "    <tr>\n",
       "      <th>0</th>\n",
       "      <td>0.308397</td>\n",
       "    </tr>\n",
       "    <tr>\n",
       "      <th>1</th>\n",
       "      <td>0.289240</td>\n",
       "    </tr>\n",
       "    <tr>\n",
       "      <th>2</th>\n",
       "      <td>0.278426</td>\n",
       "    </tr>\n",
       "    <tr>\n",
       "      <th>3</th>\n",
       "      <td>0.268547</td>\n",
       "    </tr>\n",
       "    <tr>\n",
       "      <th>4</th>\n",
       "      <td>0.259305</td>\n",
       "    </tr>\n",
       "    <tr>\n",
       "      <th>...</th>\n",
       "      <td>...</td>\n",
       "    </tr>\n",
       "    <tr>\n",
       "      <th>95</th>\n",
       "      <td>0.107544</td>\n",
       "    </tr>\n",
       "    <tr>\n",
       "      <th>96</th>\n",
       "      <td>0.107330</td>\n",
       "    </tr>\n",
       "    <tr>\n",
       "      <th>97</th>\n",
       "      <td>0.106392</td>\n",
       "    </tr>\n",
       "    <tr>\n",
       "      <th>98</th>\n",
       "      <td>0.106731</td>\n",
       "    </tr>\n",
       "    <tr>\n",
       "      <th>99</th>\n",
       "      <td>0.106595</td>\n",
       "    </tr>\n",
       "  </tbody>\n",
       "</table>\n",
       "<p>100 rows × 1 columns</p>\n",
       "</div>"
      ],
      "text/plain": [
       "    root_mean_squared_error\n",
       "0                  0.308397\n",
       "1                  0.289240\n",
       "2                  0.278426\n",
       "3                  0.268547\n",
       "4                  0.259305\n",
       "..                      ...\n",
       "95                 0.107544\n",
       "96                 0.107330\n",
       "97                 0.106392\n",
       "98                 0.106731\n",
       "99                 0.106595\n",
       "\n",
       "[100 rows x 1 columns]"
      ]
     },
     "execution_count": 46,
     "metadata": {},
     "output_type": "execute_result"
    }
   ],
   "source": [
    "df_history_raw['root_mean_squared_error']=df_pred_raw['RUL'].tolist()\n",
    "df_history_raw"
   ]
  },
  {
   "cell_type": "code",
   "execution_count": 47,
   "id": "3f563f35-55d1-42b4-9445-80fcc2a213b2",
   "metadata": {},
   "outputs": [
    {
     "data": {
      "image/png": "[encoded data removed]",
      "text/plain": [
       "<Figure size 640x480 with 1 Axes>"
      ]
     },
     "metadata": {},
     "output_type": "display_data"
    }
   ],
   "source": [
    "import matplotlib.pyplot as plt\n",
    "import mplcyberpunk\n",
    "plt.style.use('cyberpunk')\n",
    "plt.plot(history.history['root_mean_squared_error'])\n",
    "plt.plot(df_history_raw['root_mean_squared_error'])\n",
    "plt.ylabel('Normalized RMSE')\n",
    "plt.xlabel('Epoch')\n",
    "plt.legend([ 'Normalized dataset','Raw dataset'])\n",
    "plt.title('RMSE VS Epoch')\n",
    "df_history=pd.DataFrame()\n",
    "df_history['root_mean_squared_error']=history.history['root_mean_squared_error']\n",
    "df_history.to_pickle(\"./rmse_normalized.pkl\") "
   ]
  },
  {
   "cell_type": "code",
   "execution_count": null,
   "id": "4b9d4716-351e-4658-8c37-8eb8b2a6c3c0",
   "metadata": {},
   "outputs": [],
   "source": []
  }
 ],
 "metadata": {
  "kernelspec": {
   "display_name": "Python 3 (ipykernel)",
   "language": "python",
   "name": "python3"
  },
  "language_info": {
   "codemirror_mode": {
    "name": "ipython",
    "version": 3
   },
   "file_extension": ".py",
   "mimetype": "text/x-python",
   "name": "python",
   "nbconvert_exporter": "python",
   "pygments_lexer": "ipython3",
   "version": "3.8.19"
  }
 },
 "nbformat": 4,
 "nbformat_minor": 5
}
